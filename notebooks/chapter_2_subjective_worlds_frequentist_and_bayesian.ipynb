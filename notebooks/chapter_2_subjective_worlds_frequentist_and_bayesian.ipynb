{
 "cells": [
  {
   "cell_type": "code",
   "execution_count": 65,
   "metadata": {},
   "outputs": [],
   "source": [
    "import pandas as pd\n",
    "import numpy as np\n",
    "import matplotlib.pyplot as plt\n",
    "\n",
    "from sklearn.metrics import mean_squared_error, r2_score"
   ]
  },
  {
   "attachments": {},
   "cell_type": "markdown",
   "metadata": {},
   "source": [
    "# Problem 2.1 Deterministic nature of coin flip"
   ]
  },
  {
   "cell_type": "code",
   "execution_count": 2,
   "metadata": {},
   "outputs": [
    {
     "data": {
      "text/html": [
       "<div>\n",
       "<style scoped>\n",
       "    .dataframe tbody tr th:only-of-type {\n",
       "        vertical-align: middle;\n",
       "    }\n",
       "\n",
       "    .dataframe tbody tr th {\n",
       "        vertical-align: top;\n",
       "    }\n",
       "\n",
       "    .dataframe thead th {\n",
       "        text-align: right;\n",
       "    }\n",
       "</style>\n",
       "<table border=\"1\" class=\"dataframe\">\n",
       "  <thead>\n",
       "    <tr style=\"text-align: right;\">\n",
       "      <th></th>\n",
       "      <th>0.2</th>\n",
       "      <th>0.4</th>\n",
       "      <th>0.6</th>\n",
       "      <th>0.8</th>\n",
       "      <th>1.0</th>\n",
       "    </tr>\n",
       "    <tr>\n",
       "      <th>angle</th>\n",
       "      <th></th>\n",
       "      <th></th>\n",
       "      <th></th>\n",
       "      <th></th>\n",
       "      <th></th>\n",
       "    </tr>\n",
       "  </thead>\n",
       "  <tbody>\n",
       "    <tr>\n",
       "      <th>0</th>\n",
       "      <td>0</td>\n",
       "      <td>1</td>\n",
       "      <td>0</td>\n",
       "      <td>0</td>\n",
       "      <td>1</td>\n",
       "    </tr>\n",
       "    <tr>\n",
       "      <th>45</th>\n",
       "      <td>1</td>\n",
       "      <td>0</td>\n",
       "      <td>0</td>\n",
       "      <td>0</td>\n",
       "      <td>0</td>\n",
       "    </tr>\n",
       "    <tr>\n",
       "      <th>90</th>\n",
       "      <td>1</td>\n",
       "      <td>1</td>\n",
       "      <td>0</td>\n",
       "      <td>0</td>\n",
       "      <td>1</td>\n",
       "    </tr>\n",
       "    <tr>\n",
       "      <th>135</th>\n",
       "      <td>1</td>\n",
       "      <td>1</td>\n",
       "      <td>0</td>\n",
       "      <td>1</td>\n",
       "      <td>0</td>\n",
       "    </tr>\n",
       "    <tr>\n",
       "      <th>180</th>\n",
       "      <td>1</td>\n",
       "      <td>1</td>\n",
       "      <td>0</td>\n",
       "      <td>1</td>\n",
       "      <td>1</td>\n",
       "    </tr>\n",
       "    <tr>\n",
       "      <th>225</th>\n",
       "      <td>1</td>\n",
       "      <td>0</td>\n",
       "      <td>1</td>\n",
       "      <td>0</td>\n",
       "      <td>0</td>\n",
       "    </tr>\n",
       "    <tr>\n",
       "      <th>270</th>\n",
       "      <td>1</td>\n",
       "      <td>0</td>\n",
       "      <td>0</td>\n",
       "      <td>0</td>\n",
       "      <td>1</td>\n",
       "    </tr>\n",
       "    <tr>\n",
       "      <th>315</th>\n",
       "      <td>0</td>\n",
       "      <td>1</td>\n",
       "      <td>1</td>\n",
       "      <td>0</td>\n",
       "      <td>0</td>\n",
       "    </tr>\n",
       "  </tbody>\n",
       "</table>\n",
       "</div>"
      ],
      "text/plain": [
       "       0.2  0.4  0.6  0.8  1.0\n",
       "angle                         \n",
       "0        0    1    0    0    1\n",
       "45       1    0    0    0    0\n",
       "90       1    1    0    0    1\n",
       "135      1    1    0    1    0\n",
       "180      1    1    0    1    1\n",
       "225      1    0    1    0    0\n",
       "270      1    0    0    0    1\n",
       "315      0    1    1    0    0"
      ]
     },
     "execution_count": 2,
     "metadata": {},
     "output_type": "execute_result"
    }
   ],
   "source": [
    "# Table P2.1 - Resulsts of a coin throw from a given angle and height above the table\n",
    "# H: 1, T: 0\n",
    "flip = pd.DataFrame(\n",
    "    data = {\n",
    "        'angle': [0, 45, 90, 135, 180, 225, 270, 315],\n",
    "        0.2: [0, 1, 1, 1, 1, 1, 1, 0],\n",
    "        0.4: [1, 0, 1, 1, 1, 0, 0, 1],\n",
    "        0.6: [0, 0, 0, 0, 0, 1, 0, 1],\n",
    "        0.8: [0, 0, 0, 1, 1, 0, 0, 0],\n",
    "        1.0: [1, 0, 1, 0, 1, 0, 1, 0]\n",
    "    })\n",
    "flip = flip.set_index('angle')\n",
    "flip"
   ]
  },
  {
   "cell_type": "code",
   "execution_count": 3,
   "metadata": {},
   "outputs": [
    {
     "data": {
      "text/html": [
       "<div>\n",
       "<style scoped>\n",
       "    .dataframe tbody tr th:only-of-type {\n",
       "        vertical-align: middle;\n",
       "    }\n",
       "\n",
       "    .dataframe tbody tr th {\n",
       "        vertical-align: top;\n",
       "    }\n",
       "\n",
       "    .dataframe thead th {\n",
       "        text-align: right;\n",
       "    }\n",
       "</style>\n",
       "<table border=\"1\" class=\"dataframe\">\n",
       "  <thead>\n",
       "    <tr style=\"text-align: right;\">\n",
       "      <th></th>\n",
       "      <th>0.2</th>\n",
       "      <th>0.4</th>\n",
       "      <th>0.6</th>\n",
       "      <th>0.8</th>\n",
       "      <th>1.0</th>\n",
       "    </tr>\n",
       "    <tr>\n",
       "      <th>angle</th>\n",
       "      <th></th>\n",
       "      <th></th>\n",
       "      <th></th>\n",
       "      <th></th>\n",
       "      <th></th>\n",
       "    </tr>\n",
       "  </thead>\n",
       "  <tbody>\n",
       "    <tr>\n",
       "      <th>0</th>\n",
       "      <td>0.05</td>\n",
       "      <td>0.03</td>\n",
       "      <td>0.02</td>\n",
       "      <td>0.04</td>\n",
       "      <td>0.04</td>\n",
       "    </tr>\n",
       "    <tr>\n",
       "      <th>45</th>\n",
       "      <td>0.03</td>\n",
       "      <td>0.02</td>\n",
       "      <td>0.01</td>\n",
       "      <td>0.05</td>\n",
       "      <td>0.02</td>\n",
       "    </tr>\n",
       "    <tr>\n",
       "      <th>90</th>\n",
       "      <td>0.05</td>\n",
       "      <td>0.03</td>\n",
       "      <td>0.01</td>\n",
       "      <td>0.03</td>\n",
       "      <td>0.02</td>\n",
       "    </tr>\n",
       "    <tr>\n",
       "      <th>135</th>\n",
       "      <td>0.02</td>\n",
       "      <td>0.03</td>\n",
       "      <td>0.04</td>\n",
       "      <td>0.00</td>\n",
       "      <td>0.04</td>\n",
       "    </tr>\n",
       "    <tr>\n",
       "      <th>180</th>\n",
       "      <td>0.03</td>\n",
       "      <td>0.02</td>\n",
       "      <td>0.02</td>\n",
       "      <td>0.00</td>\n",
       "      <td>0.03</td>\n",
       "    </tr>\n",
       "    <tr>\n",
       "      <th>225</th>\n",
       "      <td>0.00</td>\n",
       "      <td>0.01</td>\n",
       "      <td>0.04</td>\n",
       "      <td>0.03</td>\n",
       "      <td>0.02</td>\n",
       "    </tr>\n",
       "    <tr>\n",
       "      <th>270</th>\n",
       "      <td>0.03</td>\n",
       "      <td>0.00</td>\n",
       "      <td>0.03</td>\n",
       "      <td>0.01</td>\n",
       "      <td>0.04</td>\n",
       "    </tr>\n",
       "    <tr>\n",
       "      <th>315</th>\n",
       "      <td>0.02</td>\n",
       "      <td>0.03</td>\n",
       "      <td>0.03</td>\n",
       "      <td>0.02</td>\n",
       "      <td>0.01</td>\n",
       "    </tr>\n",
       "  </tbody>\n",
       "</table>\n",
       "</div>"
      ],
      "text/plain": [
       "        0.2   0.4   0.6   0.8   1.0\n",
       "angle                              \n",
       "0      0.05  0.03  0.02  0.04  0.04\n",
       "45     0.03  0.02  0.01  0.05  0.02\n",
       "90     0.05  0.03  0.01  0.03  0.02\n",
       "135    0.02  0.03  0.04  0.00  0.04\n",
       "180    0.03  0.02  0.02  0.00  0.03\n",
       "225    0.00  0.01  0.04  0.03  0.02\n",
       "270    0.03  0.00  0.03  0.01  0.04\n",
       "315    0.02  0.03  0.03  0.02  0.01"
      ]
     },
     "execution_count": 3,
     "metadata": {},
     "output_type": "execute_result"
    }
   ],
   "source": [
    "# Table P2.2 - Probabilities of getting head for each angle - height combination\n",
    "# H: 1, T: 0\n",
    "flip_p = pd.DataFrame(\n",
    "    data = {\n",
    "        'angle': [0, 45, 90, 135, 180, 225, 270, 315],\n",
    "        0.2: [0.05, 0.03, 0.05, 0.02, 0.03, 0.  , 0.03, 0.02],\n",
    "        0.4: [0.03, 0.02, 0.03, 0.03, 0.02, 0.01, 0.  , 0.03],\n",
    "        0.6: [0.02, 0.01, 0.01, 0.04, 0.02, 0.04, 0.03, 0.03],\n",
    "        0.8: [0.04, 0.05, 0.03, 0.  , 0.  , 0.03, 0.01, 0.02],\n",
    "        1.0: [0.04, 0.02, 0.02, 0.04, 0.03, 0.02, 0.04, 0.01]\n",
    "    })\n",
    "flip_p = flip_p.set_index('angle')\n",
    "flip_p"
   ]
  },
  {
   "attachments": {},
   "cell_type": "markdown",
   "metadata": {},
   "source": [
    "## Problem 2.1.1\n",
    "**Suppose that all combinations of angles and heights are equally likely to be chosen. What is the probability that the coin lands heads up?**\n",
    "\n",
    "**Answer:** The probability that the coin lands heads up is `0.475`, which corresponds to the count of all possible heads in the table divided by the total number of possible outcomes."
   ]
  },
  {
   "cell_type": "code",
   "execution_count": 4,
   "metadata": {},
   "outputs": [
    {
     "data": {
      "text/plain": [
       "0.475"
      ]
     },
     "execution_count": 4,
     "metadata": {},
     "output_type": "execute_result"
    }
   ],
   "source": [
    "flip.sum().sum() / (flip.shape[0] * flip.shape[1])"
   ]
  },
  {
   "attachments": {},
   "cell_type": "markdown",
   "metadata": {},
   "source": [
    "## Problem 2.1.2\n",
    "\n",
    "**Now suppose that\n",
    "some combinations of angles and\n",
    "heights are more likely to be chosen\n",
    "than others, with the probabilities\n",
    "shown in Table P2.2. What are\n",
    "the new probabilities that the coin\n",
    "lands heads up?**\n",
    "\n",
    "**Answer:** The probability that the coin lands heads up based on the provided probabilities is `0.5`, which corresponds to the sum of all probabilities of heads in the table `flip_p`\n"
   ]
  },
  {
   "cell_type": "code",
   "execution_count": 5,
   "metadata": {},
   "outputs": [
    {
     "data": {
      "text/plain": [
       "0.5"
      ]
     },
     "execution_count": 5,
     "metadata": {},
     "output_type": "execute_result"
    }
   ],
   "source": [
    "(flip * flip_p).sum().sum()"
   ]
  },
  {
   "attachments": {},
   "cell_type": "markdown",
   "metadata": {},
   "source": [
    "## Problem 2.1.3\n",
    "\n",
    "**We force the cointhrower\n",
    "to throw the coin at an\n",
    "angle of 45 degrees. What is the\n",
    "probability that the coin lands\n",
    "heads up?**\n",
    "\n",
    "**Answer:** The probability of the coin landing heads up given that the angle is 45 degrees is `0.3`, which corresponds to the sum of all probabilities of heads in the table `flip_p` where the angle is 45 degrees, divided by the total probability of the angle being 45 degrees."
   ]
  },
  {
   "cell_type": "code",
   "execution_count": 6,
   "metadata": {},
   "outputs": [
    {
     "data": {
      "text/plain": [
       "0.23076923076923075"
      ]
     },
     "execution_count": 6,
     "metadata": {},
     "output_type": "execute_result"
    }
   ],
   "source": [
    "(flip.loc[45] * flip_p.loc[45]).sum() / flip_p.loc[45].sum()"
   ]
  },
  {
   "attachments": {},
   "cell_type": "markdown",
   "metadata": {},
   "source": [
    "## Problem 2.1.4\n",
    "\n",
    "**We force the cointhrower\n",
    "to throw the coin at a\n",
    "height of 0.2m. What is the probability\n",
    "that the coin lands heads up?**\n",
    "\n",
    "**Answer:** The probability of the coin landing heads up given that the height is 0.2m is `0.16`, which corresponds to the sum of all probabilities of heads in the table `flip_p` where the height is 0.2m, divided by the total probability of the height being 0.2m."
   ]
  },
  {
   "cell_type": "code",
   "execution_count": 7,
   "metadata": {},
   "outputs": [
    {
     "data": {
      "text/plain": [
       "0.6956521739130433"
      ]
     },
     "execution_count": 7,
     "metadata": {},
     "output_type": "execute_result"
    }
   ],
   "source": [
    "(flip[0.2] * flip_p[0.2]).sum() / flip_p[0.2].sum()"
   ]
  },
  {
   "attachments": {},
   "cell_type": "markdown",
   "metadata": {},
   "source": [
    "## Problem 2.1.5\n",
    "\n",
    "**If we constrained\n",
    "the angle and height to be fixed,\n",
    "what would happen in repetitions\n",
    "of the same experiment?**\n",
    "\n",
    "**Answer:** We will get the same results"
   ]
  },
  {
   "attachments": {},
   "cell_type": "markdown",
   "metadata": {},
   "source": [
    "# Problem 2.3 - Model choice"
   ]
  },
  {
   "cell_type": "code",
   "execution_count": 66,
   "metadata": {},
   "outputs": [],
   "source": [
    "# Read data\n",
    "short = pd.read_csv('../data/subjective_overfitShort.csv')"
   ]
  },
  {
   "cell_type": "code",
   "execution_count": 72,
   "metadata": {},
   "outputs": [
    {
     "data": {
      "text/plain": [
       "array([1.02629769, 2.85487213])"
      ]
     },
     "execution_count": 72,
     "metadata": {},
     "output_type": "execute_result"
    }
   ],
   "source": [
    "# Fit a linear model using np.polyfit, which minimizes the \n",
    "# squared error for a given degree polynomial\n",
    "lin_coef = np.polyfit(short['x'], short['y'], deg = 1)\n",
    "lin_coef"
   ]
  },
  {
   "cell_type": "code",
   "execution_count": 73,
   "metadata": {},
   "outputs": [
    {
     "data": {
      "text/plain": [
       "array([  0.02147938,  -0.53010971,   4.46158052, -15.03077442,\n",
       "        20.87898653,  -8.669772  ])"
      ]
     },
     "execution_count": 73,
     "metadata": {},
     "output_type": "execute_result"
    }
   ],
   "source": [
    "# Fit a quintic model using np.polyfit, which minimizes the\n",
    "# squared error for a given degree polynomial\n",
    "quin_coef = np.polyfit(short['x'], short['y'], deg = 5)\n",
    "quin_coef"
   ]
  },
  {
   "cell_type": "code",
   "execution_count": 74,
   "metadata": {},
   "outputs": [
    {
     "data": {
      "image/png": "[encoded data removed]",
      "text/plain": [
       "<Figure size 1000x500 with 1 Axes>"
      ]
     },
     "metadata": {},
     "output_type": "display_data"
    }
   ],
   "source": [
    "# Define plt size\n",
    "plt.rcParams['figure.figsize'] = (10, 5)\n",
    "\n",
    "# Plot the data\n",
    "plt.title('Least Squares polynomials fit')\n",
    "plt.scatter(short['x'], short['y'], label = 'Data')\n",
    "plt.plot(short['x'], np.polyval(lin_coef, short['x']), label = 'Linear fit')\n",
    "\n",
    "# A linespace is used to smooth the line of the quintic fit\n",
    "xlsp = np.linspace(short['x'].min(), short['x'].max(), 100)\n",
    "plt.plot(xlsp, np.polyval(quin_coef, xlsp), label = 'Quintic fit')\n",
    "\n",
    "plt.legend()\n",
    "plt.show()"
   ]
  },
  {
   "attachments": {},
   "cell_type": "markdown",
   "metadata": {},
   "source": [
    "## Problem 2.3.1\n",
    "\n",
    "**Fit a linear regression model using least squares. How reasonable is the fit?**\n",
    "\n",
    "**Answer:** The fit is underfitting the data because the model is too simple to capture the variability in the data."
   ]
  },
  {
   "attachments": {},
   "cell_type": "markdown",
   "metadata": {},
   "source": [
    "## Problem 2.3.2\n",
    "\n",
    "**Fit a quintic (powers up to the fifth) model to the data. How does its fit compare\n",
    "to that of the linear model?**\n",
    "\n",
    "**Answer:** The fit is better than the linear model but it is probably overfitting the data."
   ]
  },
  {
   "attachments": {},
   "cell_type": "markdown",
   "metadata": {},
   "source": [
    "## Problem 2.3.3\n",
    "\n",
    "**You are now given new data contained within `subjective_overfitLong`.\n",
    "csv. This contains data on 1000 replications of the same experiment, where the x values are held\n",
    "fixed. Using the least squares fits from the first part of this question, compare the performance of the linear regression model with that of the quintic model.**\n",
    "\n",
    "**Answer:** As the RMSE of the linear model is lower than the RMSE of the quintic model, the linear model is a better fit for the data. Probably the quintic model is fitting the noise and not the trend."
   ]
  },
  {
   "cell_type": "code",
   "execution_count": 88,
   "metadata": {},
   "outputs": [
    {
     "data": {
      "text/plain": [
       "12.268235965678471"
      ]
     },
     "execution_count": 88,
     "metadata": {},
     "output_type": "execute_result"
    }
   ],
   "source": [
    "# RMSE for linear model\n",
    "lin_x = np.polyval(lin_coef, range(1, 11))\n",
    "lin_rmse = ((((long - lin_x.T)**2).sum(axis=1) / lin_x.shape[0]) ** 0.5).mean()\n",
    "lin_rmse"
   ]
  },
  {
   "cell_type": "code",
   "execution_count": 89,
   "metadata": {},
   "outputs": [
    {
     "data": {
      "text/plain": [
       "14.074163642222931"
      ]
     },
     "execution_count": 89,
     "metadata": {},
     "output_type": "execute_result"
    }
   ],
   "source": [
    "# RMSE for quintic model\n",
    "quin_x = np.polyval(quin_coef, range(1, 11))\n",
    "quin_rmse = ((((long - quin_x.T)**2).sum(axis=1) / quin_x.shape[0]) ** 0.5).mean()\n",
    "quin_rmse"
   ]
  }
 ],
 "metadata": {
  "kernelspec": {
   "display_name": "thesis",
   "language": "python",
   "name": "python3"
  },
  "language_info": {
   "codemirror_mode": {
    "name": "ipython",
    "version": 3
   },
   "file_extension": ".py",
   "mimetype": "text/x-python",
   "name": "python",
   "nbconvert_exporter": "python",
   "pygments_lexer": "ipython3",
   "version": "3.10.10"
  },
  "orig_nbformat": 4
 },
 "nbformat": 4,
 "nbformat_minor": 2
}
