{
 "cells": [
  {
   "attachments": {},
   "cell_type": "markdown",
   "metadata": {},
   "source": [
    "# Chapter 4 - Likelihoods"
   ]
  },
  {
   "cell_type": "code",
   "execution_count": 1,
   "metadata": {},
   "outputs": [],
   "source": [
    "# Import libraries\n",
    "import numpy as np\n",
    "import pandas as pd\n",
    "import math\n",
    "import matplotlib.pyplot as plt\n",
    "import seaborn as sns"
   ]
  },
  {
   "attachments": {},
   "cell_type": "markdown",
   "metadata": {},
   "source": [
    "## Problem 4.1 Blog blues\n",
    "Suppose that visits to your newly launched blog occur sporadically. Imagine you are interested in\n",
    "the length of time between consecutive first-time visits to your homepage. You collect the time\n",
    "data for a random sample of 50 visits to your blog for a particular time period and day, and you\n",
    "decide to build a statistical model to fit the data."
   ]
  },
  {
   "attachments": {},
   "cell_type": "markdown",
   "metadata": {},
   "source": [
    "**Problem 4.1.1** What assumptions might you make about the first-time visits?\n",
    "\n",
    "**Answer:** As we are interested in the first-time visits, we can assume that the visits are IID:\n",
    "* independent: the time between visits is not affected by the time of the previous visit.\n",
    "* identically distributed: the people who visit the blog share some tastes.\n",
    "* visits occurs continously at a constant rate.\n",
    "\n",
    "**Problem 4.1.2** What might be an appropriate probability model for the time between visits?\n",
    "\n",
    "**Answer:** Given the above assumptions, if the number of visits are poisson distributed, we can use an exponential distribution to model the time between visits.\n",
    "\n",
    "**Problem 4.1.3** Using your chosen probability distribution from the previous part, algebraically derive the maximum likelihood estimate (MLE) of the mean.\n",
    "\n",
    "**Answer:** Based on the independence assumption, the likelihood can be written as:\n",
    "\n",
    "$$\n",
    "\\begin{align}\n",
    "p(t_1, t_2, \\dots, t_n|\\lambda) &= \\prod_{i=1}^n p(t_i|\\lambda) = \\prod_{i=1}^n \\lambda e^{-\\lambda t_i} \\\\ \n",
    "\\end{align}\n",
    "$$\n",
    "\n",
    "calculating the log-likelihood:\n",
    "\n",
    "$$\n",
    "\\begin{align}\n",
    "log(p(t_1, t_2, \\dots, t_n|\\lambda)) &= log \\bigg(\\prod_{i=1}^n \\lambda e^{-\\lambda t_i}\\bigg) = \\sum_{i=1}^{n} log(\\lambda e^{-\\lambda t_i}) \\tag{2}\\\\\n",
    "                                     &= \\sum_{i=1}^{n} log(\\lambda) + log(e^{-\\lambda t_i}) = \\sum_{i=1}^{n} log(\\lambda) - \\lambda t_i \\tag{3}\\\\\n",
    "                                     &= n log(\\lambda) - n t_{i} \\lambda \\tag{4}\n",
    "\\end{align}\n",
    "$$\n",
    "\n",
    "taking the derivative of the log-likelihood with respect to $\\lambda$ and setting it to zero:\n",
    "\n",
    "$$\n",
    "\\begin{align}\n",
    "\\frac{\\partial \\text{log} p}{\\partial \\lambda} &= \\frac{n}{\\lambda} - n t_{i} = 0 \\tag{5}\\\\\n",
    "\\end{align}\n",
    "$$\n",
    "\n",
    "solving for $\\lambda$, we calculate that $\\hat\\lambda=\\frac{1}{t}$ is the MLE of the mean. "
   ]
  },
  {
   "attachments": {},
   "cell_type": "markdown",
   "metadata": {},
   "source": [
    "**Problem 4.1.4**: You collect data from Google Analytics that contains the time (in minutes)\n",
    "between each visit for a sample of 50 randomly chosen visits to your blog. The data set is\n",
    "called `likelihood_blogVisits.csv`. Derive an estimate for the mean number of visits\n",
    "per minute.\n",
    "\n",
    "**Answer:** According to $(5)$ in the previous problem, an estimate of the mean number of visits per minute is $\\hat\\lambda=\\frac{1}{t} \\approx 1.63$, where $t$ is the average time between visits."
   ]
  },
  {
   "cell_type": "code",
   "execution_count": 9,
   "metadata": {},
   "outputs": [
    {
     "data": {
      "text/html": [
       "<div>\n",
       "<style scoped>\n",
       "    .dataframe tbody tr th:only-of-type {\n",
       "        vertical-align: middle;\n",
       "    }\n",
       "\n",
       "    .dataframe tbody tr th {\n",
       "        vertical-align: top;\n",
       "    }\n",
       "\n",
       "    .dataframe thead th {\n",
       "        text-align: right;\n",
       "    }\n",
       "</style>\n",
       "<table border=\"1\" class=\"dataframe\">\n",
       "  <thead>\n",
       "    <tr style=\"text-align: right;\">\n",
       "      <th></th>\n",
       "      <th>visits</th>\n",
       "    </tr>\n",
       "  </thead>\n",
       "  <tbody>\n",
       "    <tr>\n",
       "      <th>0</th>\n",
       "      <td>1.366967</td>\n",
       "    </tr>\n",
       "    <tr>\n",
       "      <th>1</th>\n",
       "      <td>0.065920</td>\n",
       "    </tr>\n",
       "    <tr>\n",
       "      <th>2</th>\n",
       "      <td>0.968358</td>\n",
       "    </tr>\n",
       "    <tr>\n",
       "      <th>3</th>\n",
       "      <td>0.174096</td>\n",
       "    </tr>\n",
       "    <tr>\n",
       "      <th>4</th>\n",
       "      <td>0.889502</td>\n",
       "    </tr>\n",
       "  </tbody>\n",
       "</table>\n",
       "</div>"
      ],
      "text/plain": [
       "     visits\n",
       "0  1.366967\n",
       "1  0.065920\n",
       "2  0.968358\n",
       "3  0.174096\n",
       "4  0.889502"
      ]
     },
     "execution_count": 9,
     "metadata": {},
     "output_type": "execute_result"
    }
   ],
   "source": [
    "blog = pd.read_csv('../data/likelihood_blogVisits.csv', names=['visits'])\n",
    "blog.head()"
   ]
  },
  {
   "cell_type": "code",
   "execution_count": 11,
   "metadata": {},
   "outputs": [
    {
     "data": {
      "text/plain": [
       "1.6262145862718507"
      ]
     },
     "execution_count": 11,
     "metadata": {},
     "output_type": "execute_result"
    }
   ],
   "source": [
    "1 / blog['visits'].mean()"
   ]
  },
  {
   "attachments": {},
   "cell_type": "markdown",
   "metadata": {},
   "source": [
    "**Problem 4.1.5**: Graph the log-likelihood near the MLE. Why do we not plot the likelihood?\n",
    "\n",
    "**Answer:** The plot is presented below. We do not plot the likelihood because the multiplication of probabilities yields very small numbers, which are difficult to compute."
   ]
  },
  {
   "cell_type": "code",
   "execution_count": 41,
   "metadata": {},
   "outputs": [
    {
     "data": {
      "image/png": "[encoded data removed]",
      "text/plain": [
       "<Figure size 640x480 with 1 Axes>"
      ]
     },
     "metadata": {},
     "output_type": "display_data"
    }
   ],
   "source": [
    "# Define the lambda linespace\n",
    "lmbda = np.linspace(0.000001, 10, 1000)\n",
    "\n",
    "# Define the likelihood function\n",
    "def likelihood(lmbda, n, t):\n",
    "    return n * np.log(lmbda) - n * t * lmbda\n",
    "\n",
    "# Calculate the likelihood for each lambda value\n",
    "logll = likelihood(lmbda, 50, blog['visits'].mean())\n",
    "\n",
    "# Plot the likelihood\n",
    "plt.plot(lmbda, logll)\n",
    "\n",
    "# Find the maximum likelihood\n",
    "xmax = lmbda[np.argmax(logll)]\n",
    "ymax = logll.max()\n",
    "\n",
    "# Plot the maximum likelihood\n",
    "plt.plot(xmax, ymax, 'ro')\n",
    "\n",
    "# Add vertical line at the maximum likelihood that touches the x-axis and the likelihood curve\n",
    "plt.vlines(xmax, -700, ymax, linestyles='dashed', color='red', linewidth=0.8)\n",
    "plt.hlines(ymax, 0, xmax, linestyles='dashed', color='red', linewidth=0.8)\n",
    "\n",
    "# Remove top and right spine from plot\n",
    "sns.despine()\n",
    "\n",
    "# Add axis labels\n",
    "plt.xlabel('$\\lambda$ - mean number of visits per minute')\n",
    "plt.ylabel('log likelihood')\n",
    "\n",
    "plt.show()"
   ]
  }
 ],
 "metadata": {
  "kernelspec": {
   "display_name": "thesis",
   "language": "python",
   "name": "python3"
  },
  "language_info": {
   "codemirror_mode": {
    "name": "ipython",
    "version": 3
   },
   "file_extension": ".py",
   "mimetype": "text/x-python",
   "name": "python",
   "nbconvert_exporter": "python",
   "pygments_lexer": "ipython3",
   "version": "3.10.9"
  },
  "orig_nbformat": 4
 },
 "nbformat": 4,
 "nbformat_minor": 2
}
